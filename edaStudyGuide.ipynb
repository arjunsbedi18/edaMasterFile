{
 "cells": [
  {
   "cell_type": "code",
   "execution_count": 43,
   "metadata": {},
   "outputs": [],
   "source": [
    "import numpy as np\n",
    "import pandas as pd \n",
    "import matplotlib.pyplot as plt"
   ]
  },
  {
   "cell_type": "markdown",
   "metadata": {},
   "source": [
    "# EDA MASTER FILE"
   ]
  },
  {
   "cell_type": "markdown",
   "metadata": {},
   "source": [
    "## Lecture 1"
   ]
  },
  {
   "cell_type": "code",
   "execution_count": 44,
   "metadata": {},
   "outputs": [
    {
     "name": "stdout",
     "output_type": "stream",
     "text": [
      "32\n",
      "32\n"
     ]
    }
   ],
   "source": [
    "# Numpy matrix multiplication\n",
    "# either @ or .dot()\n",
    "a=np.array([1,2,3])\n",
    "b=np.array([4,5,6])\n",
    "print(a@b)\n",
    "print(a.dot(b))"
   ]
  },
  {
   "cell_type": "code",
   "execution_count": 63,
   "metadata": {},
   "outputs": [
    {
     "data": {
      "text/plain": [
       "0      xue\n",
       "1     mary\n",
       "2    ollie\n",
       "dtype: object"
      ]
     },
     "execution_count": 63,
     "metadata": {},
     "output_type": "execute_result"
    }
   ],
   "source": [
    "c = pd.Series(['Xue','Mary','Ollie']) \n",
    "c.str.lower() #convert uppercases to lowercases\n",
    "\n",
    "#df['features'] = df['features'].astype(str) #change to string\n",
    "#df['features'] = df['features'].str.lower() #change all letters to lower cases to uniform strings\n",
    "#\" hi MSDS 593!\".strip().split() # gets a list of words"
   ]
  },
  {
   "cell_type": "code",
   "execution_count": 46,
   "metadata": {},
   "outputs": [
    {
     "data": {
      "text/plain": [
       "t      10.0\n",
       "u       2.4\n",
       "v      81.0\n",
       "w    1005.0\n",
       "dtype: float64"
      ]
     },
     "execution_count": 46,
     "metadata": {},
     "output_type": "execute_result"
    }
   ],
   "source": [
    "d = pd.Series([10,2.4,81,1005], index=['t','u','v','w'])\n",
    "d"
   ]
  },
  {
   "cell_type": "markdown",
   "metadata": {},
   "source": [
    "<div class=\"alert alert-block alert-success\">\n",
    "    \n",
    "The main distinction between `loc` and `iloc` is: `loc` is label-based, which means that you have to specify rows and columns based on their row and column labels. `iloc` is integer position-based, so you have to specify rows and columns by their integer position values (0-based integer position)\n",
    "    \n",
    "</div>"
   ]
  },
  {
   "cell_type": "code",
   "execution_count": 47,
   "metadata": {},
   "outputs": [
    {
     "data": {
      "text/plain": [
       "u       2.4\n",
       "w    1005.0\n",
       "dtype: float64"
      ]
     },
     "execution_count": 47,
     "metadata": {},
     "output_type": "execute_result"
    }
   ],
   "source": [
    "d.loc[['u','w']] # a list of indice ['u','w']\n",
    "#a.loc[a<100]"
   ]
  },
  {
   "cell_type": "markdown",
   "metadata": {},
   "source": [
    "### N/A"
   ]
  },
  {
   "cell_type": "code",
   "execution_count": 48,
   "metadata": {},
   "outputs": [],
   "source": [
    "#c.fillna(1000)\n",
    "#d.loc[~d.isnull()] # finding values that are not null"
   ]
  },
  {
   "cell_type": "code",
   "execution_count": 49,
   "metadata": {},
   "outputs": [],
   "source": [
    "# indexing both columns and rows in dataframe\n",
    "    #df[row,column]\n",
    "#df_status = df_status.set_index('Date')   \n",
    "#df_status = df_status.reset_index()"
   ]
  },
  {
   "cell_type": "code",
   "execution_count": 50,
   "metadata": {},
   "outputs": [],
   "source": [
    "# DOUBLE INDEX WEIRD NOTATION\n",
    "#df_titanic[df_titanic[\"Embarked\"].isnull()].index\n",
    "#df_titanic[df_titanic.isnull().sum(axis=1)>0].index\n",
    "\n",
    "#df_rent['price']<= 10000\n",
    "#df = df_rent[(df_rent['price'] <= 10000) & (df_rent['price'] > 100)].copy() \n",
    "\n",
    "# DROPPING A COLUMN\n",
    "#df_status.drop('junk', axis=1)\n",
    "\n",
    "# SOMETIMES, NECESSARY TO MAKE A COPY\n",
    "#df_x = df_status.iloc[5:10].copy()"
   ]
  },
  {
   "cell_type": "markdown",
   "metadata": {},
   "source": [
    "### Frequency Table"
   ]
  },
  {
   "cell_type": "code",
   "execution_count": 51,
   "metadata": {},
   "outputs": [
    {
     "name": "stdout",
     "output_type": "stream",
     "text": [
      "col_0  count\n",
      "CYL         \n",
      "3          4\n",
      "4        199\n",
      "5          3\n",
      "6         83\n",
      "8        103\n"
     ]
    }
   ],
   "source": [
    "#define frequency table\n",
    "df_cars = pd.read_csv('/Users/arjunbedi/Documents/gradSchool/bootcamp/edaViz/lectures/lecture1/cars.csv')\n",
    "tab = pd.crosstab(index=df_cars['CYL'], columns='count')\n",
    "print(tab)\n",
    "#df_cars.describe"
   ]
  },
  {
   "cell_type": "markdown",
   "metadata": {},
   "source": [
    "### GOING TO KEEP ALL THE DATETIME STUFF IN L1.B (will add to repository)"
   ]
  },
  {
   "cell_type": "markdown",
   "metadata": {},
   "source": [
    "## LEcture 2"
   ]
  },
  {
   "cell_type": "code",
   "execution_count": 52,
   "metadata": {},
   "outputs": [],
   "source": [
    "avg_mpg = df_cars.groupby('CYL').mean()['MPG']\n",
    "# Get a list of all mpg values for three specific cylinder sizes\n",
    "# Get read for boxplot\n",
    "cyl4 = df_cars[df_cars['CYL']==4]['MPG'].values"
   ]
  },
  {
   "cell_type": "code",
   "execution_count": 56,
   "metadata": {},
   "outputs": [
    {
     "data": {
      "image/png": "[encoded data removed]",
      "text/plain": [
       "<Figure size 600x400 with 1 Axes>"
      ]
     },
     "metadata": {},
     "output_type": "display_data"
    }
   ],
   "source": [
    "cyl = sorted(df_cars['CYL'].unique())\n",
    "\n",
    "fig, ax = plt.subplots(figsize=(6,4)) \n",
    "ax.bar(cyl, avg_mpg) \n",
    "plt.title(\"Engine Type vs Miles Per Gallon\")\n",
    "plt.show()"
   ]
  },
  {
   "cell_type": "code",
   "execution_count": 54,
   "metadata": {},
   "outputs": [
    {
     "data": {
      "image/png": "[encoded data removed]",
      "text/plain": [
       "<Figure size 600x400 with 1 Axes>"
      ]
     },
     "metadata": {},
     "output_type": "display_data"
    }
   ],
   "source": [
    "fig, ax = plt.subplots(figsize=(6,4))\n",
    "ax.plot(avg_mpg) \n",
    "# CAN DO ANOTHER LINEPLOT HERE, if you want to add another line\n",
    "#ax.plot(avg_mpg_forcyl_4) \n",
    "plt.show()"
   ]
  },
  {
   "cell_type": "code",
   "execution_count": 55,
   "metadata": {},
   "outputs": [
    {
     "data": {
      "image/png": "[encoded data removed]",
      "text/plain": [
       "<Figure size 600x400 with 1 Axes>"
      ]
     },
     "metadata": {},
     "output_type": "display_data"
    }
   ],
   "source": [
    "fig, ax = plt.subplots(figsize=(6,4)) \n",
    "ax.scatter(df_cars['WGT'], df_cars['MPG'])\n",
    "plt.show()"
   ]
  },
  {
   "cell_type": "code",
   "execution_count": 58,
   "metadata": {},
   "outputs": [
    {
     "data": {
      "text/plain": [
       "Survived\n",
       "0    549\n",
       "1    342\n",
       "Name: count, dtype: int64"
      ]
     },
     "execution_count": 58,
     "metadata": {},
     "output_type": "execute_result"
    }
   ],
   "source": [
    "df_titanic = pd.read_csv(\"/Users/arjunbedi/Documents/gradSchool/bootcamp/edaViz/lectures/lecture2/titanic.csv\")\n",
    "survived_count = df_titanic[\"Survived\"].value_counts()\n",
    "survived_count"
   ]
  },
  {
   "cell_type": "code",
   "execution_count": 59,
   "metadata": {},
   "outputs": [
    {
     "data": {
      "text/html": [
       "<div>\n",
       "<style scoped>\n",
       "    .dataframe tbody tr th:only-of-type {\n",
       "        vertical-align: middle;\n",
       "    }\n",
       "\n",
       "    .dataframe tbody tr th {\n",
       "        vertical-align: top;\n",
       "    }\n",
       "\n",
       "    .dataframe thead th {\n",
       "        text-align: right;\n",
       "    }\n",
       "</style>\n",
       "<table border=\"1\" class=\"dataframe\">\n",
       "  <thead>\n",
       "    <tr style=\"text-align: right;\">\n",
       "      <th>Survived</th>\n",
       "      <th>0</th>\n",
       "      <th>1</th>\n",
       "    </tr>\n",
       "    <tr>\n",
       "      <th>Pclass</th>\n",
       "      <th></th>\n",
       "      <th></th>\n",
       "    </tr>\n",
       "  </thead>\n",
       "  <tbody>\n",
       "    <tr>\n",
       "      <th>1</th>\n",
       "      <td>80</td>\n",
       "      <td>136</td>\n",
       "    </tr>\n",
       "    <tr>\n",
       "      <th>2</th>\n",
       "      <td>97</td>\n",
       "      <td>87</td>\n",
       "    </tr>\n",
       "    <tr>\n",
       "      <th>3</th>\n",
       "      <td>372</td>\n",
       "      <td>119</td>\n",
       "    </tr>\n",
       "  </tbody>\n",
       "</table>\n",
       "</div>"
      ],
      "text/plain": [
       "Survived    0    1\n",
       "Pclass            \n",
       "1          80  136\n",
       "2          97   87\n",
       "3         372  119"
      ]
     },
     "execution_count": 59,
     "metadata": {},
     "output_type": "execute_result"
    }
   ],
   "source": [
    "new_tab = pd.crosstab(index=df_titanic['Pclass'], columns=df_titanic[\"Survived\"])\n",
    "new_tab"
   ]
  },
  {
   "cell_type": "code",
   "execution_count": 60,
   "metadata": {},
   "outputs": [
    {
     "data": {
      "image/png": "[encoded data removed]",
      "text/plain": [
       "<Figure size 600x400 with 1 Axes>"
      ]
     },
     "metadata": {},
     "output_type": "display_data"
    }
   ],
   "source": [
    "fig, ax = plt.subplots(figsize=(6,4)) \n",
    "ax.boxplot(df_cars['MPG'])\n",
    "plt.show()\n",
    "\n",
    "# Multiple of them\n",
    "# df_mpg_cyl=[cyl4,cyl6,cyl8]\n",
    "\n",
    "# fig, ax = plt.subplots(figsize=(6,4))\n",
    "# ax.boxplot(df_mpg_cyl)\n",
    "# plt.show()"
   ]
  },
  {
   "cell_type": "code",
   "execution_count": 61,
   "metadata": {},
   "outputs": [
    {
     "data": {
      "text/html": [
       "<div>\n",
       "<style scoped>\n",
       "    .dataframe tbody tr th:only-of-type {\n",
       "        vertical-align: middle;\n",
       "    }\n",
       "\n",
       "    .dataframe tbody tr th {\n",
       "        vertical-align: top;\n",
       "    }\n",
       "\n",
       "    .dataframe thead th {\n",
       "        text-align: right;\n",
       "    }\n",
       "</style>\n",
       "<table border=\"1\" class=\"dataframe\">\n",
       "  <thead>\n",
       "    <tr style=\"text-align: right;\">\n",
       "      <th></th>\n",
       "      <th>MPG</th>\n",
       "      <th>CYL</th>\n",
       "      <th>ENG</th>\n",
       "      <th>WGT</th>\n",
       "    </tr>\n",
       "  </thead>\n",
       "  <tbody>\n",
       "    <tr>\n",
       "      <th>MPG</th>\n",
       "      <td>1.000000</td>\n",
       "      <td>-0.777618</td>\n",
       "      <td>-0.805127</td>\n",
       "      <td>-0.832244</td>\n",
       "    </tr>\n",
       "    <tr>\n",
       "      <th>CYL</th>\n",
       "      <td>-0.777618</td>\n",
       "      <td>1.000000</td>\n",
       "      <td>0.950823</td>\n",
       "      <td>0.897527</td>\n",
       "    </tr>\n",
       "    <tr>\n",
       "      <th>ENG</th>\n",
       "      <td>-0.805127</td>\n",
       "      <td>0.950823</td>\n",
       "      <td>1.000000</td>\n",
       "      <td>0.932994</td>\n",
       "    </tr>\n",
       "    <tr>\n",
       "      <th>WGT</th>\n",
       "      <td>-0.832244</td>\n",
       "      <td>0.897527</td>\n",
       "      <td>0.932994</td>\n",
       "      <td>1.000000</td>\n",
       "    </tr>\n",
       "  </tbody>\n",
       "</table>\n",
       "</div>"
      ],
      "text/plain": [
       "          MPG       CYL       ENG       WGT\n",
       "MPG  1.000000 -0.777618 -0.805127 -0.832244\n",
       "CYL -0.777618  1.000000  0.950823  0.897527\n",
       "ENG -0.805127  0.950823  1.000000  0.932994\n",
       "WGT -0.832244  0.897527  0.932994  1.000000"
      ]
     },
     "execution_count": 61,
     "metadata": {},
     "output_type": "execute_result"
    }
   ],
   "source": [
    "C = df_cars.corr()\n",
    "C"
   ]
  },
  {
   "cell_type": "code",
   "execution_count": null,
   "metadata": {},
   "outputs": [],
   "source": [
    "# TITLES\n",
    "#ax.set_xlabel(\"Weight (lbs)\")\n",
    "#ax.set_ylabel(\"Count\")\n",
    "#ax.set_title(\"Weight histogram\")"
   ]
  },
  {
   "cell_type": "markdown",
   "metadata": {},
   "source": [
    "## LECTURE 3"
   ]
  },
  {
   "cell_type": "code",
   "execution_count": null,
   "metadata": {},
   "outputs": [],
   "source": [
    "# coordinate dataframe\n",
    "# df = df[(df['latitude']>40.55) &\n",
    "#         (df['latitude']<40.94) &\n",
    "#         (df['longitude']>-74.1) &\n",
    "#         (df['longitude']<-73.67)].copy()\n",
    "# print(len(df), len(df_rent))"
   ]
  },
  {
   "cell_type": "code",
   "execution_count": 62,
   "metadata": {},
   "outputs": [
    {
     "data": {
      "text/plain": [
       "0.00    1613.00\n",
       "0.25    2225.25\n",
       "0.50    2803.50\n",
       "0.75    3614.75\n",
       "1.00    5140.00\n",
       "Name: WGT, dtype: float64"
      ]
     },
     "execution_count": 62,
     "metadata": {},
     "output_type": "execute_result"
    }
   ],
   "source": [
    "# Quantile\n",
    "df_cars['WGT'].quantile([0.0,0.25,0.5,0.75,1.0])"
   ]
  },
  {
   "cell_type": "code",
   "execution_count": null,
   "metadata": {},
   "outputs": [],
   "source": [
    "# REORDERING\n",
    "#df['interest_level'] = df['interest_level'].cat.reorder_categories(['low','medium','high'])"
   ]
  },
  {
   "cell_type": "code",
   "execution_count": null,
   "metadata": {},
   "outputs": [],
   "source": [
    "#put two histograms side by side\n",
    "\n",
    "# fig, axes = plt.subplots(nrows=1, ncols=2, figsize=(10,4))\n",
    "# axes[0].hist(df['bedrooms'])\n",
    "# axes[0].set_xlabel(\"bedrooms\")\n",
    "# axes[1].hist(df['bathrooms'])\n",
    "# axes[1].set_xlabel(\"bathrooms\")\n",
    "# #plt.tight_layout() #  if your plots look overlapping, you can try this\n",
    "# plt.show()"
   ]
  },
  {
   "cell_type": "code",
   "execution_count": null,
   "metadata": {},
   "outputs": [],
   "source": [
    "# BOOLEAN COLUMNS\n",
    "# df['doorman'] = df['features'].str.contains('doorman')\n",
    "# df['laundry'] = df['features'].str.contains('laundry')\n",
    "# df['parking'] = df['features'].str.contains('parking')\n",
    "# df['hardwood'] = df['features'].str.contains('hardwood')"
   ]
  }
 ],
 "metadata": {
  "kernelspec": {
   "display_name": "base",
   "language": "python",
   "name": "python3"
  },
  "language_info": {
   "codemirror_mode": {
    "name": "ipython",
    "version": 3
   },
   "file_extension": ".py",
   "mimetype": "text/x-python",
   "name": "python",
   "nbconvert_exporter": "python",
   "pygments_lexer": "ipython3",
   "version": "3.11.9"
  }
 },
 "nbformat": 4,
 "nbformat_minor": 2
}
